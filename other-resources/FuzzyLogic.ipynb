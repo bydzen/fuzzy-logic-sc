{
  "nbformat": 4,
  "nbformat_minor": 0,
  "metadata": {
    "colab": {
      "name": "FuzzyLogic.ipynb",
      "provenance": [],
      "collapsed_sections": []
    },
    "kernelspec": {
      "name": "python3",
      "display_name": "Python 3"
    },
    "language_info": {
      "name": "python"
    }
  },
  "cells": [
    {
      "cell_type": "code",
      "metadata": {
        "id": "8aLjeol2t0JT"
      },
      "source": [
        "import pandas as pd\n",
        "import numpy as np\n",
        "import matplotlib.pyplot as plt\n",
        "import xlwt"
      ],
      "execution_count": null,
      "outputs": []
    },
    {
      "cell_type": "code",
      "metadata": {
        "id": "6qOYx81cpwES",
        "colab": {
          "base_uri": "https://localhost:8080/"
        },
        "outputId": "511c981a-3560-44f3-dbf3-aaebf2961f56"
      },
      "source": [
        "!gdown --id 1bb2irg5nFZhoFkpjWPQHJPBBr8FiK8l7"
      ],
      "execution_count": null,
      "outputs": [
        {
          "output_type": "stream",
          "text": [
            "Downloading...\n",
            "From: https://drive.google.com/uc?id=1bb2irg5nFZhoFkpjWPQHJPBBr8FiK8l7\n",
            "To: /content/restoran.xlsx\n",
            "\r  0% 0.00/10.5k [00:00<?, ?B/s]\r100% 10.5k/10.5k [00:00<00:00, 8.06MB/s]\n"
          ],
          "name": "stdout"
        }
      ]
    },
    {
      "cell_type": "code",
      "metadata": {
        "id": "b7GSFgf7q5L_",
        "colab": {
          "base_uri": "https://localhost:8080/"
        },
        "outputId": "fc220223-a33d-4531-a1cc-115dbbd7e5c6"
      },
      "source": [
        "dataRestoran = pd.read_excel('restoran.xlsx')\n",
        "print(dataRestoran)\n",
        "titikPelayanan = [25,37,58,65,78,89,101] #akan menghasilkan nilai kelayakan yang lebih bervariasi\n",
        "titikMakanan = [3,5,8,11]"
      ],
      "execution_count": null,
      "outputs": [
        {
          "output_type": "stream",
          "text": [
            "     id  pelayanan  makanan\n",
            "0     1         58        7\n",
            "1     2         54        1\n",
            "2     3         98        2\n",
            "3     4         52        4\n",
            "4     5         11        4\n",
            "..  ...        ...      ...\n",
            "95   96         30        1\n",
            "96   97         25        3\n",
            "97   98         27       10\n",
            "98   99          8        6\n",
            "99  100         11        8\n",
            "\n",
            "[100 rows x 3 columns]\n"
          ],
          "name": "stdout"
        }
      ]
    },
    {
      "cell_type": "code",
      "metadata": {
        "id": "r0N9VKYmR-mX"
      },
      "source": [
        "def trapesium(x,a,b,c,d):\n",
        "  nilaiKeanggotaan = 0\n",
        "  if x <= a or x>=d:\n",
        "    nilaiKeanggotaan = 0\n",
        "  elif a < x < b:\n",
        "    nilaiKeanggotaan = (x-a)/(b-a)\n",
        "  elif b<=x<c:\n",
        "    nilaiKeanggotaan = 1\n",
        "  elif c <= x < d:\n",
        "    nilaiKeanggotaan = -(x-d)/(d-c)\n",
        "  \n",
        "  return nilaiKeanggotaan\n",
        "\n",
        "def segitiga(x,a,b,c):\n",
        "  nilaiKeanggotaan = 0\n",
        "  if x <= a or x>=c:\n",
        "    nilaiKeanggotaan = 0\n",
        "  elif a < x <= b:\n",
        "    nilaiKeanggotaan = (x-a)/(b-a)\n",
        "  elif b<x<=c:\n",
        "    nilaiKeanggotaan = -(x-c)/(c-b)\n",
        "  \n",
        "  return nilaiKeanggotaan"
      ],
      "execution_count": null,
      "outputs": []
    },
    {
      "cell_type": "code",
      "metadata": {
        "id": "Vrb1ncacT1X5"
      },
      "source": [
        "def keanggotaanPelayanan(x):\n",
        "  kurang= trapesium(x,-1,0,titikPelayanan[0],titikPelayanan[1])\n",
        "  cukup = trapesium(x,titikPelayanan[0],titikPelayanan[1],titikPelayanan[2],titikPelayanan[3])\n",
        "  bagus = trapesium(x,titikPelayanan[2],titikPelayanan[3],titikPelayanan[4],titikPelayanan[5])\n",
        "  sangatBagus = trapesium(x,titikPelayanan[4],titikPelayanan[5],titikPelayanan[6],titikPelayanan[6])\n",
        "  return kurang,cukup,bagus,sangatBagus\n",
        "\n",
        "def keanggotaanMakanan(x):\n",
        "  kurangEnak = trapesium(x,-1,0,titikMakanan[0],titikMakanan[1])\n",
        "  enak = segitiga(x,titikMakanan[0],titikMakanan[1],titikMakanan[2])\n",
        "  sangatEnak = trapesium(x,titikMakanan[1],titikMakanan[2],titikMakanan[3],titikMakanan[3])\n",
        "  return kurangEnak,enak,sangatEnak\n",
        "\n",
        "def grafikPelayanan():\n",
        "  x_axis = np.arange(0, 101, 1)\n",
        "  len_x = titikPelayanan[len(titikPelayanan)-1]\n",
        "  fig, ax = plt.subplots(nrows=1, figsize=(15,5))\n",
        "\n",
        "  kurang,cukup,bagus,sangatBagus = [],[],[],[]\n",
        "  for x in range(len_x):\n",
        "    kurang.append(keanggotaanPelayanan(x)[0])\n",
        "    cukup.append(keanggotaanPelayanan(x)[1])\n",
        "    bagus.append(keanggotaanPelayanan(x)[2])\n",
        "    sangatBagus.append(keanggotaanPelayanan(x)[3])\n",
        "\n",
        "  ax.plot(x_axis, kurang, 'g', linewidth=1.5, label = 'kurang')\n",
        "  ax.plot(x_axis, cukup, 'r', linewidth=1.5, label = 'cukup')\n",
        "  ax.plot(x_axis, bagus, 'b', linewidth=1.5, label = 'bagus')\n",
        "  ax.plot(x_axis, sangatBagus, 'c', linewidth=1.5, label = 'sangat bagus')\n",
        "      \n",
        "  ax.set_title(\"Pelayanan\")\n",
        "  ax.legend()\n",
        "      \n",
        "  ax.spines['top'].set_visible(False)\n",
        "  ax.spines['right'].set_visible(False)\n",
        "  ax.get_xaxis().tick_bottom()\n",
        "  ax.get_yaxis().tick_left()\n",
        "      \n",
        "  plt.tight_layout()\n",
        "  plt.show()\n",
        "\n",
        "def grafikMakanan():\n",
        "  x_axis = np.arange(0, 11, 1)\n",
        "  len_x = titikMakanan[len(titikMakanan)-1]\n",
        "  fig, ax = plt.subplots(nrows=1, figsize=(15,5))\n",
        "\n",
        "  kurangEnak,enak,sangatEnak = [],[],[]\n",
        "  for x in range(len_x):\n",
        "    kurangEnak.append(keanggotaanMakanan(x)[0])\n",
        "    enak.append(keanggotaanMakanan(x)[1])\n",
        "    sangatEnak.append(keanggotaanMakanan(x)[2])\n",
        "\n",
        "  ax.plot(x_axis, kurangEnak, 'g', linewidth=1.5, label = 'kurang enak')\n",
        "  ax.plot(x_axis, enak, 'r', linewidth=1.5, label = 'enak')\n",
        "  ax.plot(x_axis, sangatEnak, 'b', linewidth=1.5, label = 'sangat enak')\n",
        "      \n",
        "  ax.set_title(\"Makanan\")\n",
        "  ax.legend()\n",
        "      \n",
        "  ax.spines['top'].set_visible(False)\n",
        "  ax.spines['right'].set_visible(False)\n",
        "  ax.get_xaxis().tick_bottom()\n",
        "  ax.get_yaxis().tick_left()\n",
        "      \n",
        "  plt.tight_layout()\n",
        "  plt.show()"
      ],
      "execution_count": null,
      "outputs": []
    },
    {
      "cell_type": "code",
      "metadata": {
        "id": "yx0J-co4WLas",
        "colab": {
          "base_uri": "https://localhost:8080/",
          "height": 441
        },
        "outputId": "6d891555-72cb-491d-dd2e-2a154e6ccc76"
      },
      "source": [
        "grafikPelayanan()\n",
        "grafikMakanan()"
      ],
      "execution_count": null,
      "outputs": [
        {
          "output_type": "display_data",
          "data": {
            "image/png": "[encoded data removed]",
            "text/plain": [
              "<Figure size 1080x360 with 1 Axes>"
            ]
          },
          "metadata": {
            "tags": [],
            "needs_background": "light"
          }
        },
        {
          "output_type": "display_data",
          "data": {
            "image/png": "[encoded data removed]",
            "text/plain": [
              "<Figure size 1080x360 with 1 Axes>"
            ]
          },
          "metadata": {
            "tags": [],
            "needs_background": "light"
          }
        }
      ]
    },
    {
      "cell_type": "code",
      "metadata": {
        "id": "ASNeqAR5k4Er"
      },
      "source": [
        "def fuzzificationPelayanan(dataRestoran):\n",
        "  hasilFuzzy = []\n",
        "\n",
        "  for i in range(len(dataRestoran)):\n",
        "    temp = keanggotaanPelayanan(dataRestoran[\"pelayanan\"][i])\n",
        "    hasilFuzzy.append(temp)\n",
        "  return hasilFuzzy\n",
        "\n",
        "def fuzzificationMakanan(dataRestoran):\n",
        "  hasilFuzzy = []\n",
        "\n",
        "  for i in range(len(dataRestoran)):\n",
        "    temp = keanggotaanMakanan(dataRestoran[\"makanan\"][i])\n",
        "    hasilFuzzy.append(temp)\n",
        "  return hasilFuzzy"
      ],
      "execution_count": null,
      "outputs": []
    },
    {
      "cell_type": "code",
      "metadata": {
        "colab": {
          "base_uri": "https://localhost:8080/"
        },
        "id": "acYgVFpU0yKx",
        "outputId": "efc1df64-1d46-4898-967a-dc3cc4f8c229"
      },
      "source": [
        "print(fuzzificationPelayanan(dataRestoran))\n",
        "print(fuzzificationMakanan(dataRestoran))"
      ],
      "execution_count": null,
      "outputs": [
        {
          "output_type": "stream",
          "text": [
            "[(0, 1.0, 0, 0), (0, 1, 0, 0), (0, 0, 0, 1), (0, 1, 0, 0), (1, 0, 0, 0), (0, 0.8571428571428571, 0.14285714285714285, 0), (0, 0.5714285714285714, 0.42857142857142855, 0), (0.5833333333333334, 0.4166666666666667, 0, 0), (0, 1, 0, 0), (0.08333333333333333, 0.9166666666666666, 0, 0), (1, 0, 0, 0), (0, 1, 0, 0), (0, 0, 0.8181818181818182, 0.18181818181818182), (0.5, 0.5, 0, 0), (0, 0, 1.0, 0), (0, 0, 0.6363636363636364, 0.36363636363636365), (0, 0, 1, 0), (1, 0, 0, 0), (0, 1, 0, 0), (0, 1, 0, 0), (0, 1, 0, 0), (0, 0, 0.9090909090909091, 0.09090909090909091), (1, 0, 0, 0), (0, 0, 0, 1), (0, 0.5714285714285714, 0.42857142857142855, 0), (1, 0, 0, 0), (0, 0.8571428571428571, 0.14285714285714285, 0), (0, 1, 0, 0), (1, 0, 0, 0), (1, 0, 0, 0), (0, 0, 1, 0), (0, 1, 0, 0), (0.3333333333333333, 0.6666666666666666, 0, 0), (0, 0, 0, 1), (1, 0, 0, 0), (0.4166666666666667, 0.5833333333333334, 0, 0), (0.5, 0.5, 0, 0), (1, 0, 0, 0), (0, 1, 0, 0), (1, 0, 0, 0), (0.3333333333333333, 0.6666666666666666, 0, 0), (0, 0, 0, 1), (0.25, 0.75, 0, 0), (0, 0.2857142857142857, 0.7142857142857143, 0), (1, 0, 0, 0), (0, 1, 0, 0), (1, 0, 0, 0), (0, 0.14285714285714285, 0.8571428571428571, 0), (1, 0, 0, 0), (0, 1, 0, 0), (0, 1, 0, 0), (0, 0, 0, 1), (1, 0, 0, 0), (0, 0.14285714285714285, 0.8571428571428571, 0), (0, 1, 0, 0), (0, 1, 0, 0), (1, 0, 0, 0), (0.5, 0.5, 0, 0), (0.75, 0.25, 0, 0), (0, 0, 0.9090909090909091, 0.09090909090909091), (0, 1, 0, 0), (0.5, 0.5, 0, 0), (0, 0, 1.0, 0), (0.16666666666666666, 0.8333333333333334, 0, 0), (1, 0, 0, 0), (1, 0, 0, 0), (0.8333333333333334, 0.16666666666666666, 0, 0), (0, 0.8571428571428571, 0.14285714285714285, 0), (0, 0, 0.2727272727272727, 0.7272727272727273), (0, 0, 1.0, 0), (0, 1, 0, 0), (0.9166666666666666, 0.08333333333333333, 0, 0), (1, 0, 0, 0), (0, 1, 0, 0), (0, 0.5714285714285714, 0.42857142857142855, 0), (0, 1, 0, 0), (1, 0, 0, 0), (1, 0, 0, 0), (0, 0, 0.18181818181818182, 0.8181818181818182), (0, 1, 0, 0), (1, 0, 0, 0), (1, 0, 0, 0), (0, 0, 1, 0), (1, 0, 0, 0), (1, 0, 0, 0), (0.5833333333333334, 0.4166666666666667, 0, 0), (0, 1, 0, 0), (1, 0, 0, 0), (0, 1, 0, 0), (1, 0, 0, 0), (0, 0, 0, 1), (0, 0, 0.5454545454545454, 0.45454545454545453), (0, 1, 0, 0), (1, 0, 0, 0), (0, 0.2857142857142857, 0.7142857142857143, 0), (0.5833333333333334, 0.4166666666666667, 0, 0), (1.0, 0, 0, 0), (0.8333333333333334, 0.16666666666666666, 0, 0), (1, 0, 0, 0), (1, 0, 0, 0)]\n",
            "[(0, 0.3333333333333333, 0.6666666666666666), (1, 0, 0), (1, 0, 0), (0.5, 0.5, 0), (0.5, 0.5, 0), (0, 0, 1), (0, 0, 1), (0, 0, 1), (1, 0, 0), (0, 0, 1), (0, 1.0, 0), (0, 0.3333333333333333, 0.6666666666666666), (1.0, 0, 0), (0, 0, 1), (0, 1.0, 0), (0, 0.6666666666666666, 0.3333333333333333), (1.0, 0, 0), (0, 0, 1), (1.0, 0, 0), (0, 0, 1), (1, 0, 0), (0, 0, 1), (0.5, 0.5, 0), (0, 0, 1), (0, 0, 1), (1, 0, 0), (0, 0, 1), (1.0, 0, 0), (0, 0, 1), (0, 0.6666666666666666, 0.3333333333333333), (0, 0, 1), (1.0, 0, 0), (0, 0, 1), (0.5, 0.5, 0), (1, 0, 0), (0, 0.6666666666666666, 0.3333333333333333), (0.5, 0.5, 0), (1, 0, 0), (0, 0.3333333333333333, 0.6666666666666666), (0, 0.6666666666666666, 0.3333333333333333), (1, 0, 0), (0, 0, 1), (1.0, 0, 0), (1, 0, 0), (0, 0, 1), (1, 0, 0), (1.0, 0, 0), (0.5, 0.5, 0), (1, 0, 0), (0, 1.0, 0), (0, 0, 1), (1.0, 0, 0), (0, 0.6666666666666666, 0.3333333333333333), (0, 0, 1), (0, 0.3333333333333333, 0.6666666666666666), (1.0, 0, 0), (1.0, 0, 0), (1, 0, 0), (0.5, 0.5, 0), (0, 0.6666666666666666, 0.3333333333333333), (0.5, 0.5, 0), (0, 0.3333333333333333, 0.6666666666666666), (0, 0.3333333333333333, 0.6666666666666666), (1, 0, 0), (0, 0, 1), (0, 0, 1), (0.5, 0.5, 0), (0, 1.0, 0), (0, 0, 1), (0, 0, 1), (1.0, 0, 0), (0, 0.6666666666666666, 0.3333333333333333), (0, 0, 1), (0.5, 0.5, 0), (1, 0, 0), (0, 1.0, 0), (0, 0, 1), (1, 0, 0), (0, 0, 1), (0, 0, 1), (0, 0, 1), (0.5, 0.5, 0), (0, 0, 1), (1, 0, 0), (0.5, 0.5, 0), (0, 1.0, 0), (0.5, 0.5, 0), (0, 0, 1), (1, 0, 0), (1, 0, 0), (1.0, 0, 0), (1.0, 0, 0), (0, 0, 1), (1.0, 0, 0), (0, 0, 1), (1, 0, 0), (1.0, 0, 0), (0, 0, 1), (0, 0.6666666666666666, 0.3333333333333333), (0, 0, 1)]\n"
          ],
          "name": "stdout"
        }
      ]
    },
    {
      "cell_type": "code",
      "metadata": {
        "id": "dKgHmRPM03ee"
      },
      "source": [
        " def inference(dataFuzzyPelayanan, dataFuzzyMakanan):\n",
        "  nilaiKelayakan = []\n",
        "  for i in range(len(dataFuzzyMakanan)):\n",
        "    pelayanan = dataFuzzyPelayanan[i] # [0 1.0 0 0]\n",
        "    makanan = dataFuzzyMakanan[i]\n",
        "    rendah = []\n",
        "    sedang = []\n",
        "    tinggi = []\n",
        "    for j in range(len(pelayanan)):\n",
        "      temp = 0\n",
        "      for k in range(len(makanan)):\n",
        "        if j == 0 and k == 0:\n",
        "          temp = min(pelayanan[j], makanan[k])\n",
        "          rendah.append(temp)\n",
        "        if j == 0 and k == 1:\n",
        "          temp = min(pelayanan[j], makanan[k])\n",
        "          rendah.append(temp)\n",
        "        if j == 0 and k == 2:\n",
        "          temp = min(pelayanan[j], makanan[k])\n",
        "          rendah.append(temp)\n",
        "        if j == 1 and k == 0:\n",
        "          temp = min(pelayanan[j], makanan[k])\n",
        "          rendah.append(temp)\n",
        "        if j == 1 and k == 1:\n",
        "          temp = min(pelayanan[j], makanan[k])\n",
        "          sedang.append(temp)\n",
        "        if j == 1 and k == 2:\n",
        "          temp = min(pelayanan[j], makanan[k])\n",
        "          sedang.append(temp)\n",
        "        if j == 2 and k == 0:\n",
        "          temp = min(pelayanan[j], makanan[k])\n",
        "          rendah.append(temp)\n",
        "        if j == 2 and k == 1:\n",
        "          temp = min(pelayanan[j], makanan[k])\n",
        "          sedang.append(temp)\n",
        "        if j == 2 and k == 2:\n",
        "          temp = min(pelayanan[j], makanan[k])\n",
        "          tinggi.append(temp)\n",
        "        if j == 3 and k == 0:\n",
        "          temp = min(pelayanan[j], makanan[k])\n",
        "          sedang.append(temp)\n",
        "        if j == 3 and k == 1:\n",
        "          temp = min(pelayanan[j], makanan[k])\n",
        "          tinggi.append(temp)\n",
        "        if j == 3 and k == 2:\n",
        "          temp = min(pelayanan[j], makanan[k])\n",
        "          tinggi.append(temp)\n",
        "    \n",
        "    nkRendah = max(rendah)\n",
        "    nkSedang = max(sedang)\n",
        "    nkTinggi = max(tinggi)\n",
        "    nilaiKelayakan.append([nkRendah,nkSedang,nkTinggi])\n",
        "  return nilaiKelayakan\n",
        "        "
      ],
      "execution_count": null,
      "outputs": []
    },
    {
      "cell_type": "code",
      "metadata": {
        "colab": {
          "base_uri": "https://localhost:8080/"
        },
        "id": "D4D8smEjURRb",
        "outputId": "e49ba688-8474-49fd-8a50-f2bdce5ab491"
      },
      "source": [
        "dataFuzzyPelayanan = fuzzificationPelayanan(dataRestoran)\n",
        "dataFuzzyMakanan = fuzzificationMakanan(dataRestoran)\n",
        "print(inference(dataFuzzyPelayanan,dataFuzzyMakanan))"
      ],
      "execution_count": null,
      "outputs": [
        {
          "output_type": "stream",
          "text": [
            "[[0, 0.6666666666666666, 0], [1, 0, 0], [0, 1, 0], [0.5, 0.5, 0], [0.5, 0, 0], [0, 0.8571428571428571, 0.14285714285714285], [0, 0.5714285714285714, 0.42857142857142855], [0.5833333333333334, 0.4166666666666667, 0], [1, 0, 0], [0.08333333333333333, 0.9166666666666666, 0], [1, 0, 0], [0, 0.6666666666666666, 0], [0.8181818181818182, 0.18181818181818182, 0], [0.5, 0.5, 0], [0, 1.0, 0], [0, 0.6363636363636364, 0.36363636363636365], [1, 0, 0], [1, 0, 0], [1, 0, 0], [0, 1, 0], [1, 0, 0], [0, 0, 0.9090909090909091], [0.5, 0, 0], [0, 0, 1], [0, 0.5714285714285714, 0.42857142857142855], [1, 0, 0], [0, 0.8571428571428571, 0.14285714285714285], [1, 0, 0], [1, 0, 0], [0.6666666666666666, 0, 0], [0, 0, 1], [1, 0, 0], [0.3333333333333333, 0.6666666666666666, 0], [0, 0.5, 0.5], [1, 0, 0], [0.4166666666666667, 0.5833333333333334, 0], [0.5, 0.5, 0], [1, 0, 0], [0, 0.6666666666666666, 0], [0.6666666666666666, 0, 0], [0.6666666666666666, 0, 0], [0, 0, 1], [0.75, 0, 0], [0.7142857142857143, 0, 0], [1, 0, 0], [1, 0, 0], [1, 0, 0], [0.5, 0.5, 0], [1, 0, 0], [0, 1, 0], [0, 1, 0], [0, 1, 0], [0.6666666666666666, 0, 0], [0, 0.14285714285714285, 0.8571428571428571], [0, 0.6666666666666666, 0], [1, 0, 0], [1, 0, 0], [0.5, 0, 0], [0.5, 0.25, 0], [0, 0.6666666666666666, 0.3333333333333333], [0.5, 0.5, 0], [0.5, 0.5, 0], [0, 0.3333333333333333, 0.6666666666666666], [0.8333333333333334, 0, 0], [1, 0, 0], [1, 0, 0], [0.5, 0.16666666666666666, 0], [0, 0.8571428571428571, 0], [0, 0, 0.7272727272727273], [0, 0, 1.0], [1, 0, 0], [0.6666666666666666, 0.08333333333333333, 0], [1, 0, 0], [0.5, 0.5, 0], [0.5714285714285714, 0, 0], [0, 1, 0], [1, 0, 0], [1, 0, 0], [0, 0, 0.8181818181818182], [0, 1, 0], [1, 0, 0], [0.5, 0, 0], [0, 0, 1], [1, 0, 0], [0.5, 0, 0], [0.5833333333333334, 0.4166666666666667, 0], [0.5, 0.5, 0], [1, 0, 0], [1, 0, 0], [1, 0, 0], [0, 1, 0], [0.5454545454545454, 0.45454545454545453, 0], [0, 1, 0], [1, 0, 0], [0, 0.2857142857142857, 0.7142857142857143], [0.5833333333333334, 0, 0], [1.0, 0, 0], [0.8333333333333334, 0.16666666666666666, 0], [0.6666666666666666, 0, 0], [1, 0, 0]]\n"
          ],
          "name": "stdout"
        }
      ]
    },
    {
      "cell_type": "code",
      "metadata": {
        "colab": {
          "base_uri": "https://localhost:8080/",
          "height": 622
        },
        "id": "WtI60etdUmba",
        "outputId": "2cedb6b0-2da1-476d-f923-01210803fba2"
      },
      "source": [
        "def defuzzyfication(dataFuzzyRules):\n",
        "  hasilDefuzz = []\n",
        "  for data in dataFuzzyRules:\n",
        "    y = ((data[0]*30) + (data[1]*60) + (data[2]*99)) / (data[0] + data[1] + data[2])\n",
        "    hasilDefuzz.append(y)\n",
        "  return hasilDefuzz\n",
        "\n",
        "arrx = [0,30,60,99]\n",
        "arry = [0,1,1,1]\n",
        "fig, ax = plt.subplots(nrows=1, figsize=(10,4))\n",
        "plt.xticks([30,60,99])\n",
        "plt.yticks([0,1])\n",
        "ax.spines['top'].set_visible(False)\n",
        "ax.spines['right'].set_visible(False)\n",
        "plt.xlabel(\"Nilai Kelayakan skala [0,100]\")\n",
        "plt.ylabel(\"u\")\n",
        "plt.margins(y=0.17)\n",
        "\n",
        "plt.title(\"FK singleton untuk Nilai Kelayakan\")\n",
        "plt.bar(arrx, arry, color=['red','red','orange','green'],width=[0.4,0.4,0.4,0.4], label=\"Runtime CycleSort\")\n",
        "\n",
        "rects = ax.patches\n",
        "labels = [\"\",\"rendah\",\"sedang\",\"tinggi\"]\n",
        "for rect, label in zip(rects, labels):\n",
        "    height = rect.get_height()\n",
        "    ax.text(rect.get_x() + rect.get_width() / 2, height+0.0088, label,\n",
        "            ha='center', va='bottom')\n",
        "plt.show()\n",
        "\n",
        "dataFuzzyRules = inference(dataFuzzyPelayanan,dataFuzzyMakanan)\n",
        "hasilDefuzz = defuzzyfication(dataFuzzyRules)\n",
        "dataRestoran[\"Result\"] = hasilDefuzz\n",
        "\n",
        "hasilAkhir = dataRestoran.sort_values(by=\"Result\", ascending=False)[:10]\n",
        "hasilAkhir"
      ],
      "execution_count": null,
      "outputs": [
        {
          "output_type": "display_data",
          "data": {
            "image/png": "[encoded data removed]",
            "text/plain": [
              "<Figure size 720x288 with 1 Axes>"
            ]
          },
          "metadata": {
            "tags": [],
            "needs_background": "light"
          }
        },
        {
          "output_type": "execute_result",
          "data": {
            "text/html": [
              "<div>\n",
              "<style scoped>\n",
              "    .dataframe tbody tr th:only-of-type {\n",
              "        vertical-align: middle;\n",
              "    }\n",
              "\n",
              "    .dataframe tbody tr th {\n",
              "        vertical-align: top;\n",
              "    }\n",
              "\n",
              "    .dataframe thead th {\n",
              "        text-align: right;\n",
              "    }\n",
              "</style>\n",
              "<table border=\"1\" class=\"dataframe\">\n",
              "  <thead>\n",
              "    <tr style=\"text-align: right;\">\n",
              "      <th></th>\n",
              "      <th>id</th>\n",
              "      <th>pelayanan</th>\n",
              "      <th>makanan</th>\n",
              "      <th>Result</th>\n",
              "    </tr>\n",
              "  </thead>\n",
              "  <tbody>\n",
              "    <tr>\n",
              "      <th>69</th>\n",
              "      <td>70</td>\n",
              "      <td>78</td>\n",
              "      <td>8</td>\n",
              "      <td>99.000000</td>\n",
              "    </tr>\n",
              "    <tr>\n",
              "      <th>23</th>\n",
              "      <td>24</td>\n",
              "      <td>100</td>\n",
              "      <td>9</td>\n",
              "      <td>99.000000</td>\n",
              "    </tr>\n",
              "    <tr>\n",
              "      <th>41</th>\n",
              "      <td>42</td>\n",
              "      <td>94</td>\n",
              "      <td>10</td>\n",
              "      <td>99.000000</td>\n",
              "    </tr>\n",
              "    <tr>\n",
              "      <th>21</th>\n",
              "      <td>22</td>\n",
              "      <td>79</td>\n",
              "      <td>9</td>\n",
              "      <td>99.000000</td>\n",
              "    </tr>\n",
              "    <tr>\n",
              "      <th>82</th>\n",
              "      <td>83</td>\n",
              "      <td>69</td>\n",
              "      <td>8</td>\n",
              "      <td>99.000000</td>\n",
              "    </tr>\n",
              "    <tr>\n",
              "      <th>30</th>\n",
              "      <td>31</td>\n",
              "      <td>74</td>\n",
              "      <td>9</td>\n",
              "      <td>99.000000</td>\n",
              "    </tr>\n",
              "    <tr>\n",
              "      <th>78</th>\n",
              "      <td>79</td>\n",
              "      <td>87</td>\n",
              "      <td>9</td>\n",
              "      <td>99.000000</td>\n",
              "    </tr>\n",
              "    <tr>\n",
              "      <th>68</th>\n",
              "      <td>69</td>\n",
              "      <td>86</td>\n",
              "      <td>10</td>\n",
              "      <td>99.000000</td>\n",
              "    </tr>\n",
              "    <tr>\n",
              "      <th>53</th>\n",
              "      <td>54</td>\n",
              "      <td>64</td>\n",
              "      <td>10</td>\n",
              "      <td>93.428571</td>\n",
              "    </tr>\n",
              "    <tr>\n",
              "      <th>94</th>\n",
              "      <td>95</td>\n",
              "      <td>63</td>\n",
              "      <td>8</td>\n",
              "      <td>87.857143</td>\n",
              "    </tr>\n",
              "  </tbody>\n",
              "</table>\n",
              "</div>"
            ],
            "text/plain": [
              "    id  pelayanan  makanan     Result\n",
              "69  70         78        8  99.000000\n",
              "23  24        100        9  99.000000\n",
              "41  42         94       10  99.000000\n",
              "21  22         79        9  99.000000\n",
              "82  83         69        8  99.000000\n",
              "30  31         74        9  99.000000\n",
              "78  79         87        9  99.000000\n",
              "68  69         86       10  99.000000\n",
              "53  54         64       10  93.428571\n",
              "94  95         63        8  87.857143"
            ]
          },
          "metadata": {
            "tags": []
          },
          "execution_count": 11
        }
      ]
    },
    {
      "cell_type": "code",
      "metadata": {
        "id": "PlfjPKfWjkiN"
      },
      "source": [
        "peringkat = xlwt.Workbook()\n",
        "ws = peringkat.add_sheet('Output')\n",
        "ws.write(0,0,'Record id')\n",
        "i = 1\n",
        "for j in hasilAkhir[\"id\"]:\n",
        "  ws.write(i,0,j)\n",
        "  i+=1\n",
        "peringkat.save('peringkat.xls')"
      ],
      "execution_count": null,
      "outputs": []
    },
    {
      "cell_type": "code",
      "metadata": {
        "id": "rtiGOkwLNRTB"
      },
      "source": [
        ""
      ],
      "execution_count": null,
      "outputs": []
    }
  ]
}